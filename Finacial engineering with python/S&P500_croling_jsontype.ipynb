{
  "nbformat": 4,
  "nbformat_minor": 0,
  "metadata": {
    "colab": {
      "name": "S&P500_croling_jsontype.ipynb",
      "provenance": [],
      "collapsed_sections": [],
      "authorship_tag": "ABX9TyP/4YgxTx4onLXu+nPcXDhW",
      "include_colab_link": true
    },
    "kernelspec": {
      "name": "python3",
      "display_name": "Python 3"
    }
  },
  "cells": [
    {
      "cell_type": "markdown",
      "metadata": {
        "id": "view-in-github",
        "colab_type": "text"
      },
      "source": [
        "<a href=\"https://colab.research.google.com/github/chosunghyun18/pythonproj_for_HML_and_financial/blob/main/Finacial%20engineering%20with%20python/S%26P500_croling_jsontype.ipynb\" target=\"_parent\"><img src=\"https://colab.research.google.com/assets/colab-badge.svg\" alt=\"Open In Colab\"/></a>"
      ]
    },
    {
      "cell_type": "code",
      "metadata": {
        "id": "Btyj5Bldt7bR"
      },
      "source": [
        "#@title import library\n",
        "import pandas as pd\n",
        "from urllib.request import urlopen\n",
        "import json\n",
        "import matplotlib.pyplot as plt\n",
        "%matplotlib inline\n",
        "import datetime as dt\n",
        "import bs4"
      ],
      "execution_count": null,
      "outputs": []
    },
    {
      "cell_type": "code",
      "metadata": {
        "id": "-nYsFqrad3vU"
      },
      "source": [
        "\n",
        "def historical_index_naver(index_cd, start_date='', end_date='', page_n=1, last_page=0):\n",
        "    \n",
        "    if start_date:   # start_date가 있으면\n",
        "        start_date = date_format(start_date)   # date 포맷으로 변환\n",
        "    else:    # 없으면\n",
        "        start_date = dt.date.today()   # 오늘 날짜를 지정\n",
        "    if end_date:   \n",
        "        end_date = date_format(end_date)   \n",
        "    else:   \n",
        "        end_date = dt.date.today()  \n",
        "        \n",
        "        \n",
        "    naver_index = 'http://finance.naver.com/sise/sise_index_day.nhn?code=' + index_cd + '&page=' + str(page_n)\n",
        "    \n",
        "    source = urlopen(naver_index).read()   # 지정한 페이지에서 코드 읽기\n",
        "    source = bs4.BeautifulSoup(source, 'lxml')   # 뷰티풀 스프로 태그별로 코드 분류\n",
        "    \n",
        "    dates = source.find_all('td', class_='date')   # <td class=\"date\">태그에서 날짜 수집   \n",
        "    prices = source.find_all('td', class_='number_1')   # <td class=\"number_1\">태그에서 지수 수집\n",
        "    \n",
        "    for n in range(len(dates)):\n",
        "    \n",
        "        if dates[n].text.split('.')[0].isdigit():\n",
        "            \n",
        "            # 날짜 처리\n",
        "            this_date = dates[n].text\n",
        "            this_date= date_format(this_date)\n",
        "            \n",
        "            if this_date <= end_date and this_date >= start_date:   \n",
        "            # start_date와 end_date 사이에서 데이터 저장\n",
        "                # 종가 처리\n",
        "                this_close = prices[n*4].text   # prices 중 종가지수인 0,4,8,...번째 데이터 추출\n",
        "                this_close = this_close.replace(',', '')\n",
        "                this_close = float(this_close)\n",
        "\n",
        "                # 딕셔너리에 저장\n",
        "                historical_prices[this_date] = this_close\n",
        "                \n",
        "            elif this_date < start_date:   \n",
        "            # start_date 이전이면 함수 종료\n",
        "                return historical_prices              \n",
        "            \n",
        "    # 페이지 네비게이션\n",
        "    if last_page == 0:\n",
        "        last_page = source.find('td', class_='pgRR').find('a')['href']\n",
        "        # 마지막페이지 주소 추출\n",
        "        last_page = last_page.split('&')[1]   # & 뒤의 page=506 부분 추출\n",
        "        last_page = last_page.split('=')[1]   # = 뒤의 페이지번호만 추출\n",
        "        last_page = int(last_page)   # 숫자형 변수로 변환\n",
        "        \n",
        "    # 다음 페이지 호출\n",
        "    if page_n < last_page:   \n",
        "        page_n = page_n + 1   \n",
        "        historical_index_naver(index_cd, start_date, end_date, page_n, last_page)   \n",
        "        \n",
        "    return historical_prices"
      ],
      "execution_count": null,
      "outputs": []
    },
    {
      "cell_type": "code",
      "metadata": {
        "id": "O2Teqq-ufiYl"
      },
      "source": [
        "import json\n",
        "symbol ='NII@NI225'\n",
        "page = 1 \n",
        "def read_json(d, symbol, page=1):\n",
        "    url = 'https://finance.naver.com/world/worldDayListJson.nhn?symbol='+symbol+'&fdtc=0&page='+str(page)\n",
        "    raw = urlopen(url)\n",
        "    data = json.load(raw)\n",
        "    \n",
        "    for n in range(len(data)):\n",
        "        date = pd.to_datetime(data[n]['xymd']).date()\n",
        "        price = float(data[n]['clos'])\n",
        "        d[date] = price\n",
        "        \n",
        "    if len(data) == 10 and page<3:\n",
        "        page += 1\n",
        "        read_json(d, symbol, page)\n",
        "        \n",
        "    return (d)"
      ],
      "execution_count": null,
      "outputs": []
    },
    {
      "cell_type": "code",
      "metadata": {
        "id": "KKVMvI_Zg-xX"
      },
      "source": [
        "\n",
        "def date_format(d=''):\n",
        "    if d != '':\n",
        "        this_date = pd.to_datetime(d).date()\n",
        "    else:\n",
        "        this_date = pd.Timestamp.today().date()   # 오늘 날짜를 지정\n",
        "    return (this_date)"
      ],
      "execution_count": null,
      "outputs": []
    },
    {
      "cell_type": "code",
      "metadata": {
        "id": "QffKtCnBd9ra"
      },
      "source": [
        "index_cd = 'KPI200'\n",
        "historical_prices = dict()\n",
        "historical_index_naver(index_cd, '2020-4-1', '2020-4-4')\n",
        "historical_prices"
      ],
      "execution_count": null,
      "outputs": []
    },
    {
      "cell_type": "code",
      "metadata": {
        "id": "UCivneK5f3gC",
        "colab": {
          "base_uri": "https://localhost:8080/",
          "height": 152
        },
        "outputId": "2dfcdc91-3b0b-438d-ea29-a20bcaf2e52b"
      },
      "source": [
        "historical_index = pd.Series()\n",
        "historical_index = read_json(historical_index, symbol, page)\n",
        "historical_index.head(3)"
      ],
      "execution_count": null,
      "outputs": [
        {
          "output_type": "stream",
          "text": [
            "/usr/local/lib/python3.6/dist-packages/ipykernel_launcher.py:1: DeprecationWarning: The default dtype for empty Series will be 'object' instead of 'float64' in a future version. Specify a dtype explicitly to silence this warning.\n",
            "  \"\"\"Entry point for launching an IPython kernel.\n"
          ],
          "name": "stderr"
        },
        {
          "output_type": "execute_result",
          "data": {
            "text/plain": [
              "2020-07-31    21710.00\n",
              "2020-07-30    22339.23\n",
              "2020-07-29    22397.11\n",
              "dtype: float64"
            ]
          },
          "metadata": {
            "tags": []
          },
          "execution_count": 18
        }
      ]
    },
    {
      "cell_type": "code",
      "metadata": {
        "id": "10yqSyadf8G4"
      },
      "source": [
        "indices = {\n",
        "    'SPI@SPX' : 'S&P 500', \n",
        "    'NAS@NDX' : 'Nasdaq 100', \n",
        "    'NII@NI225' : 'Nikkei 225'\n",
        "}"
      ],
      "execution_count": null,
      "outputs": []
    },
    {
      "cell_type": "code",
      "metadata": {
        "id": "DY9cG11ggAQS",
        "colab": {
          "base_uri": "https://localhost:8080/",
          "height": 75
        },
        "outputId": "2576b56b-f398-4bc9-b226-f96f5e4ee4bf"
      },
      "source": [
        "historical_indices = dict()\n",
        "for key, value in indices.items(): \n",
        "    print (key, value)\n",
        "    s = dict()\n",
        "    s = read_json(s, key, 1)\n",
        "    historical_indices[value] = s    \n",
        "prices_df = pd.DataFrame(historical_indices)"
      ],
      "execution_count": null,
      "outputs": [
        {
          "output_type": "stream",
          "text": [
            "SPI@SPX S&P 500\n",
            "NAS@NDX Nasdaq 100\n",
            "NII@NI225 Nikkei 225\n"
          ],
          "name": "stdout"
        }
      ]
    },
    {
      "cell_type": "code",
      "metadata": {
        "id": "NoA2YaA1gKPO",
        "colab": {
          "base_uri": "https://localhost:8080/",
          "height": 138
        },
        "outputId": "e199881c-59cc-479d-9979-5ce841cd9889"
      },
      "source": [
        "prices_df.tail(3)"
      ],
      "execution_count": null,
      "outputs": [
        {
          "output_type": "execute_result",
          "data": {
            "text/html": [
              "<div>\n",
              "<style scoped>\n",
              "    .dataframe tbody tr th:only-of-type {\n",
              "        vertical-align: middle;\n",
              "    }\n",
              "\n",
              "    .dataframe tbody tr th {\n",
              "        vertical-align: top;\n",
              "    }\n",
              "\n",
              "    .dataframe thead th {\n",
              "        text-align: right;\n",
              "    }\n",
              "</style>\n",
              "<table border=\"1\" class=\"dataframe\">\n",
              "  <thead>\n",
              "    <tr style=\"text-align: right;\">\n",
              "      <th></th>\n",
              "      <th>S&amp;P 500</th>\n",
              "      <th>Nasdaq 100</th>\n",
              "      <th>Nikkei 225</th>\n",
              "    </tr>\n",
              "  </thead>\n",
              "  <tbody>\n",
              "    <tr>\n",
              "      <th>2020-06-19</th>\n",
              "      <td>3097.74</td>\n",
              "      <td>10008.64</td>\n",
              "      <td>22478.79</td>\n",
              "    </tr>\n",
              "    <tr>\n",
              "      <th>2020-07-03</th>\n",
              "      <td>NaN</td>\n",
              "      <td>NaN</td>\n",
              "      <td>22306.48</td>\n",
              "    </tr>\n",
              "    <tr>\n",
              "      <th>2020-06-18</th>\n",
              "      <td>NaN</td>\n",
              "      <td>NaN</td>\n",
              "      <td>22355.46</td>\n",
              "    </tr>\n",
              "  </tbody>\n",
              "</table>\n",
              "</div>"
            ],
            "text/plain": [
              "            S&P 500  Nasdaq 100  Nikkei 225\n",
              "2020-06-19  3097.74    10008.64    22478.79\n",
              "2020-07-03      NaN         NaN    22306.48\n",
              "2020-06-18      NaN         NaN    22355.46"
            ]
          },
          "metadata": {
            "tags": []
          },
          "execution_count": 21
        }
      ]
    },
    {
      "cell_type": "code",
      "metadata": {
        "id": "Q4wU98lIgaix"
      },
      "source": [
        "def index_global(d,symbol,start_date='',end_date='',page=1):\n",
        "    end_date = date_format(end_date)\n",
        "    if start_date == '':\n",
        "        start_date = end_date - pd.DateOffset(months =1)\n",
        "    start_date = date_format(start_date)\n",
        "\n",
        "    url = 'https://finance.naver.com/world/worldDayListJson.nhn?symbol=' + symbol +'&fdtc=0&page='+str(page)\n",
        "\n",
        "    raw = urlopen(url)\n",
        "    data = json.load(raw)\n",
        "\n",
        "    if len(data) > 0 :\n",
        "     \n",
        "        for n in range(len(data)):\n",
        "            date = pd.to_datetime(data(n)['xymd']).date()\n",
        "\n",
        "            if date <= end_date and date >= start_date:\n",
        "  \n",
        "              price = float(data[n]['clos'])\n",
        "          \n",
        "              d[date] = price\n",
        "\n",
        "            elif date <start_date:\n",
        "\n",
        "\n",
        "              return (d)\n",
        "\n",
        "        if len(data) == 10:\n",
        "          page += 1\n",
        "          index_global(d,symbol,start_date,end_date,page)\n",
        "\n",
        "    return (d)\n",
        "\n",
        "\n",
        "\n"
      ],
      "execution_count": null,
      "outputs": []
    },
    {
      "cell_type": "code",
      "metadata": {
        "id": "nt41Y9EjlJLG"
      },
      "source": [
        "historical_index = dict()\n",
        "start_date = '2020-06-01'\n",
        "end_date = '2020-06-03'\n",
        "for key, value in indices.items():\n",
        "    s = dict()\n",
        "    s = index_global(s,key,start_date)\n",
        "    historical_indices[value] = s\n",
        "prices_df = pd.DataFrame(historical_indes)\n"
      ],
      "execution_count": null,
      "outputs": []
    }
  ]
}