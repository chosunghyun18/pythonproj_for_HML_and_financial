{
  "nbformat": 4,
  "nbformat_minor": 0,
  "metadata": {
    "colab": {
      "name": "Hmlproject.ipynb",
      "provenance": [],
      "collapsed_sections": [],
      "mount_file_id": "1bvi7D_C0zX4NjkYySGvs67eU1Dh3b7Fq",
      "authorship_tag": "ABX9TyPLqr8YbZ+mncwwBfbPcii5",
      "include_colab_link": true
    },
    "kernelspec": {
      "name": "python3",
      "display_name": "Python 3"
    }
  },
  "cells": [
    {
      "cell_type": "markdown",
      "metadata": {
        "id": "view-in-github",
        "colab_type": "text"
      },
      "source": [
        "<a href=\"https://colab.research.google.com/github/chosunghyun18/pythonproj_for_HML_and_financial/blob/main/HML/Hmlproject.ipynb\" target=\"_parent\"><img src=\"https://colab.research.google.com/assets/colab-badge.svg\" alt=\"Open In Colab\"/></a>"
      ]
    },
    {
      "cell_type": "code",
      "metadata": {
        "id": "rKjXRm9kP5dz"
      },
      "source": [
        "from google.colab import files\n",
        "uploaded = files.upload()"
      ],
      "execution_count": null,
      "outputs": []
    },
    {
      "cell_type": "code",
      "metadata": {
        "id": "DAZHF20CKZ-_"
      },
      "source": [
        "import pandas as pd\n",
        "import numpy as np\n",
        "import matplotlib.pyplot as plt\n",
        "%matplotlib inline"
      ],
      "execution_count": null,
      "outputs": []
    },
    {
      "cell_type": "code",
      "metadata": {
        "id": "pjGm8KfTLnwt",
        "colab": {
          "base_uri": "https://localhost:8080/",
          "height": 132
        },
        "outputId": "7af4e3c3-a902-4c5d-8bed-5b9a6c8ac955"
      },
      "source": [
        "from google.colab import drive\n",
        "drive.mount('/gdrive', force_remount=True)"
      ],
      "execution_count": null,
      "outputs": [
        {
          "output_type": "stream",
          "text": [
            "Go to this URL in a browser: https://accounts.google.com/o/oauth2/auth?client_id=947318989803-6bn6qk8qdgf4n4g3pfee6491hc0brc4i.apps.googleusercontent.com&redirect_uri=urn%3aietf%3awg%3aoauth%3a2.0%3aoob&response_type=code&scope=email%20https%3a%2f%2fwww.googleapis.com%2fauth%2fdocs.test%20https%3a%2f%2fwww.googleapis.com%2fauth%2fdrive%20https%3a%2f%2fwww.googleapis.com%2fauth%2fdrive.photos.readonly%20https%3a%2f%2fwww.googleapis.com%2fauth%2fpeopleapi.readonly\n",
            "\n",
            "Enter your authorization code:\n",
            "··········\n",
            "Mounted at /gdrive\n"
          ],
          "name": "stdout"
        }
      ]
    },
    {
      "cell_type": "code",
      "metadata": {
        "id": "VQpFC-64R-rO",
        "colab": {
          "base_uri": "https://localhost:8080/",
          "height": 36
        },
        "outputId": "74e26a15-809f-4c05-db5b-c9e6517c108b"
      },
      "source": [
        "!ls \"/gdrive/My Drive/Colab Notebooks/housing.csv\""
      ],
      "execution_count": null,
      "outputs": [
        {
          "output_type": "stream",
          "text": [
            "'/gdrive/My Drive/Colab Notebooks/housing.csv'\n"
          ],
          "name": "stdout"
        }
      ]
    },
    {
      "cell_type": "markdown",
      "metadata": {
        "id": "CuVi-OtMTiWw"
      },
      "source": [
        ""
      ]
    },
    {
      "cell_type": "code",
      "metadata": {
        "id": "pzKXJM9rhViF"
      },
      "source": [
        "!ls \"/gdrive/My Drive/Colab Notebooks\""
      ],
      "execution_count": null,
      "outputs": []
    },
    {
      "cell_type": "code",
      "metadata": {
        "id": "nmwIBNdKTPaB"
      },
      "source": [
        "#housprice 데이터를 불러옴\n",
        "def  load_housing_data():\n",
        "  csv_path = (\"/gdrive/My Drive/Colab Notebooks/housing.csv\")\n",
        "  return pd.read_csv(csv_path)\n",
        "housing = load_housing_data()\n",
        "housing.head()"
      ],
      "execution_count": null,
      "outputs": []
    },
    {
      "cell_type": "code",
      "metadata": {
        "id": "hjsd1ZpHYvZM"
      },
      "source": [
        "housing.hist(bins=50,figsize=(20,15))\n",
        "plt.show()"
      ],
      "execution_count": null,
      "outputs": []
    },
    {
      "cell_type": "code",
      "metadata": {
        "id": "2GuA45THY-Ns"
      },
      "source": [
        "np.random.seed(42)"
      ],
      "execution_count": null,
      "outputs": []
    },
    {
      "cell_type": "code",
      "metadata": {
        "id": "SRlJ-sMsMS-y",
        "colab": {
          "base_uri": "https://localhost:8080/",
          "height": 36
        },
        "outputId": "f2481a7c-8171-4d4c-90bd-a7d28bf64aba"
      },
      "source": [
        "#train set 생성\n",
        "def split_train_test(data, test_ratio):\n",
        "   suffled_indices = np.random.permutation(len(data)) \n",
        "   test_set_size = int(len(data)*test_ratio)\n",
        "   test_indices=suffled_indices[:test_set_size]\n",
        "   train_indices= suffled_indices[test_set_size:]\n",
        "   return data.iloc[train_indices], data.iloc[test_indices]\n",
        "   \n",
        "train_set, test_set = split_train_test(housing,0.2)\n",
        "print(len(train_set), \"train+\", len(test_set),\"test\")"
      ],
      "execution_count": null,
      "outputs": [
        {
          "output_type": "stream",
          "text": [
            "16512 train+ 4128 test\n"
          ],
          "name": "stdout"
        }
      ]
    },
    {
      "cell_type": "code",
      "metadata": {
        "id": "T1FXu-irGvQ5"
      },
      "source": [
        "from zlib import crc32\n",
        "def test_set_check(identifier, test_ratio):\n",
        "    return crc32(np.int64(identifier)) & 0xffffffff < test_ratio * 2**32\n",
        "\n",
        "def split_train_test_by_id(data, test_ratio, id_column):\n",
        "    ids = data[id_column]\n",
        "    in_test_set = ids.apply(lambda id_ : test_set_check(id_, test_ratio))\n",
        "    return data.loc[~in_test_set], data.loc[in_test_set]"
      ],
      "execution_count": null,
      "outputs": []
    },
    {
      "cell_type": "code",
      "metadata": {
        "id": "lX8oWWsXG10L",
        "colab": {
          "base_uri": "https://localhost:8080/",
          "height": 36
        },
        "outputId": "78d04009-d1ce-469e-84e7-ca6a9729269b"
      },
      "source": [
        "train_set, test_set = split_train_test(housing, 0.2)\n",
        "print(len(train_set),\"train\", \" + \",len(test_set),\"test\" )\n"
      ],
      "execution_count": null,
      "outputs": [
        {
          "output_type": "stream",
          "text": [
            "13210 train  +  3302 test\n"
          ],
          "name": "stdout"
        }
      ]
    },
    {
      "cell_type": "code",
      "metadata": {
        "id": "TcX60wLeHBdT"
      },
      "source": [
        "housing_with_id = housing.reset_index()\n",
        "housing_with_id.head()\n",
        "housing_with_id['id'] = housing['longitude'] * 1000 + housing['latitude']\n",
        "train_set, test_set = split_train_test_by_id(housing_with_id, 0.2, \"index\")"
      ],
      "execution_count": null,
      "outputs": []
    },
    {
      "cell_type": "code",
      "metadata": {
        "id": "WYyPlLT8QZ-_",
        "colab": {
          "base_uri": "https://localhost:8080/",
          "height": 224
        },
        "outputId": "79caadbf-a386-4f27-ab9e-dd2ca7a187f3"
      },
      "source": [
        "#inline[20]\n",
        "from sklearn.model_selection import train_test_split\n",
        "train_set, test_set = train_test_split(housing, test_size=0.2, random_state=42)\n",
        "test_set.head()"
      ],
      "execution_count": null,
      "outputs": [
        {
          "output_type": "execute_result",
          "data": {
            "text/html": [
              "<div>\n",
              "<style scoped>\n",
              "    .dataframe tbody tr th:only-of-type {\n",
              "        vertical-align: middle;\n",
              "    }\n",
              "\n",
              "    .dataframe tbody tr th {\n",
              "        vertical-align: top;\n",
              "    }\n",
              "\n",
              "    .dataframe thead th {\n",
              "        text-align: right;\n",
              "    }\n",
              "</style>\n",
              "<table border=\"1\" class=\"dataframe\">\n",
              "  <thead>\n",
              "    <tr style=\"text-align: right;\">\n",
              "      <th></th>\n",
              "      <th>longitude</th>\n",
              "      <th>latitude</th>\n",
              "      <th>housing_median_age</th>\n",
              "      <th>total_rooms</th>\n",
              "      <th>total_bedrooms</th>\n",
              "      <th>population</th>\n",
              "      <th>households</th>\n",
              "      <th>median_income</th>\n",
              "      <th>ocean_proximity</th>\n",
              "      <th>rooms_per_household</th>\n",
              "      <th>bedrooms_per_room</th>\n",
              "      <th>population_per_household</th>\n",
              "      <th>income_cat</th>\n",
              "    </tr>\n",
              "  </thead>\n",
              "  <tbody>\n",
              "    <tr>\n",
              "      <th>14014</th>\n",
              "      <td>-117.18</td>\n",
              "      <td>32.75</td>\n",
              "      <td>36.0</td>\n",
              "      <td>2282.0</td>\n",
              "      <td>534.0</td>\n",
              "      <td>918.0</td>\n",
              "      <td>531.0</td>\n",
              "      <td>2.7222</td>\n",
              "      <td>NEAR OCEAN</td>\n",
              "      <td>4.297552</td>\n",
              "      <td>0.234005</td>\n",
              "      <td>1.728814</td>\n",
              "      <td>2.0</td>\n",
              "    </tr>\n",
              "    <tr>\n",
              "      <th>15292</th>\n",
              "      <td>-117.29</td>\n",
              "      <td>33.10</td>\n",
              "      <td>6.0</td>\n",
              "      <td>6091.0</td>\n",
              "      <td>1018.0</td>\n",
              "      <td>2064.0</td>\n",
              "      <td>957.0</td>\n",
              "      <td>5.1837</td>\n",
              "      <td>NEAR OCEAN</td>\n",
              "      <td>6.364681</td>\n",
              "      <td>0.167132</td>\n",
              "      <td>2.156740</td>\n",
              "      <td>4.0</td>\n",
              "    </tr>\n",
              "    <tr>\n",
              "      <th>5105</th>\n",
              "      <td>-118.31</td>\n",
              "      <td>33.95</td>\n",
              "      <td>44.0</td>\n",
              "      <td>1558.0</td>\n",
              "      <td>333.0</td>\n",
              "      <td>1095.0</td>\n",
              "      <td>316.0</td>\n",
              "      <td>4.0043</td>\n",
              "      <td>&lt;1H OCEAN</td>\n",
              "      <td>4.930380</td>\n",
              "      <td>0.213736</td>\n",
              "      <td>3.465190</td>\n",
              "      <td>3.0</td>\n",
              "    </tr>\n",
              "    <tr>\n",
              "      <th>3820</th>\n",
              "      <td>-118.48</td>\n",
              "      <td>34.20</td>\n",
              "      <td>23.0</td>\n",
              "      <td>2850.0</td>\n",
              "      <td>864.0</td>\n",
              "      <td>2249.0</td>\n",
              "      <td>777.0</td>\n",
              "      <td>2.6957</td>\n",
              "      <td>&lt;1H OCEAN</td>\n",
              "      <td>3.667954</td>\n",
              "      <td>0.303158</td>\n",
              "      <td>2.894466</td>\n",
              "      <td>2.0</td>\n",
              "    </tr>\n",
              "    <tr>\n",
              "      <th>9149</th>\n",
              "      <td>-118.50</td>\n",
              "      <td>34.46</td>\n",
              "      <td>17.0</td>\n",
              "      <td>10267.0</td>\n",
              "      <td>NaN</td>\n",
              "      <td>4956.0</td>\n",
              "      <td>1483.0</td>\n",
              "      <td>5.5061</td>\n",
              "      <td>&lt;1H OCEAN</td>\n",
              "      <td>6.923129</td>\n",
              "      <td>NaN</td>\n",
              "      <td>3.341875</td>\n",
              "      <td>4.0</td>\n",
              "    </tr>\n",
              "  </tbody>\n",
              "</table>\n",
              "</div>"
            ],
            "text/plain": [
              "       longitude  latitude  ...  population_per_household  income_cat\n",
              "14014    -117.18     32.75  ...                  1.728814         2.0\n",
              "15292    -117.29     33.10  ...                  2.156740         4.0\n",
              "5105     -118.31     33.95  ...                  3.465190         3.0\n",
              "3820     -118.48     34.20  ...                  2.894466         2.0\n",
              "9149     -118.50     34.46  ...                  3.341875         4.0\n",
              "\n",
              "[5 rows x 13 columns]"
            ]
          },
          "metadata": {
            "tags": []
          },
          "execution_count": 40
        }
      ]
    },
    {
      "cell_type": "code",
      "metadata": {
        "id": "IiUtiyVNWx6w"
      },
      "source": [
        "housing[\"income_cat\"] = np.ceil(housing[\"median_income\"] / 1.5)\n",
        "housing[\"income_cat\"].where(housing[\"income_cat\"] < 5, 5.0, inplace=True)\n",
        "housing[\"income_cat\"].hist()"
      ],
      "execution_count": null,
      "outputs": []
    },
    {
      "cell_type": "code",
      "metadata": {
        "id": "JaHpb8K4DgQB"
      },
      "source": [
        "from sklearn.model_selection import StratifiedShuffleSplit\n",
        "split = StratifiedShuffleSplit(n_splits=1, test_size = 0.2, random_state= 42)\n",
        "\n",
        "for train_index, test_index in split.split(housing, housing[\"income_cat\"]):\n",
        "    strat_train_set = housing.index[train_index]\n",
        "    strat_test_set = housing.index[test_index]"
      ],
      "execution_count": null,
      "outputs": []
    },
    {
      "cell_type": "code",
      "metadata": {
        "id": "nk-YElidPrkT"
      },
      "source": [
        "strat_test_set[\"income_cat\"].value_counts() / len(strat_test_set)"
      ],
      "execution_count": null,
      "outputs": []
    },
    {
      "cell_type": "code",
      "metadata": {
        "id": "PQpgUMmhPvf0",
        "colab": {
          "base_uri": "https://localhost:8080/",
          "height": 131
        },
        "outputId": "e5fd1e49-4d78-40e7-cdfe-e94f15964459"
      },
      "source": [
        "housing[\"income_cat\"].value_counts() / len(housing)\n",
        "#이상없음"
      ],
      "execution_count": null,
      "outputs": [
        {
          "output_type": "execute_result",
          "data": {
            "text/plain": [
              "3.0    0.350594\n",
              "2.0    0.318859\n",
              "4.0    0.176296\n",
              "5.0    0.114402\n",
              "1.0    0.039850\n",
              "Name: income_cat, dtype: float64"
            ]
          },
          "metadata": {
            "tags": []
          },
          "execution_count": 77
        }
      ]
    },
    {
      "cell_type": "code",
      "metadata": {
        "id": "SEkJgR-kP_JI"
      },
      "source": [
        "strat_train_set[\"income_cat\"].value_counts() / len(strat_test_set)"
      ],
      "execution_count": null,
      "outputs": []
    },
    {
      "cell_type": "code",
      "metadata": {
        "id": "kwMO_muWafQN"
      },
      "source": [
        "for i in(strat_train_set,strat_test_set):\n",
        "  i.drop(\"income_cat\", axis = 1, inplace=True)"
      ],
      "execution_count": null,
      "outputs": []
    },
    {
      "cell_type": "code",
      "metadata": {
        "id": "nnwZka0FazCI"
      },
      "source": [
        "housing =strat_train_set.copy()"
      ],
      "execution_count": null,
      "outputs": []
    },
    {
      "cell_type": "code",
      "metadata": {
        "id": "eSzs7cBwbOWd"
      },
      "source": [
        "housing.plot(kind=\"scatter\", x=\"longitude\", y=\"latitude\")"
      ],
      "execution_count": null,
      "outputs": []
    },
    {
      "cell_type": "code",
      "metadata": {
        "id": "fyre6XNhmvwi"
      },
      "source": [
        "aa = housing.plot(kind=\"scatter\", x=\"longitude\", y=\"latitude\",alpha=0.4)"
      ],
      "execution_count": null,
      "outputs": []
    },
    {
      "cell_type": "code",
      "metadata": {
        "id": "GEFOAimznO42"
      },
      "source": [
        "aa = housing.plot(kind=\"scatter\", x=\"longitude\", y=\"latitude\",alpha=0.1)"
      ],
      "execution_count": null,
      "outputs": []
    },
    {
      "cell_type": "code",
      "metadata": {
        "id": "unxORnXcnRic"
      },
      "source": [
        "aa = housing.plot(kind=\"scatter\", x=\"longitude\", y=\"latitude\",alpha=0.4,\n",
        "                  figsize=(7,7),\n",
        "                  s=housing[\"population\"]/100, cmap=plt.get_cmap(\"jet\"),colorbar=True,sharex=False)\n",
        " \n",
        " \n",
        "plt.legend()"
      ],
      "execution_count": null,
      "outputs": []
    },
    {
      "cell_type": "code",
      "metadata": {
        "id": "Vj1OsLmDre8Z"
      },
      "source": [
        "aa = housing.plot(kind=\"scatter\", x=\"longitude\", y=\"latitude\",alpha=0.4,\n",
        "                  label=\"population\",figsize=(11,7),\n",
        "                  s=housing[\"population\"]/100, cmap=plt.get_cmap(\"jet\"),colorbar=True,sharex=False)\n",
        " \n",
        " \n",
        "plt.legend()"
      ],
      "execution_count": null,
      "outputs": []
    },
    {
      "cell_type": "code",
      "metadata": {
        "id": "J6qP3fpTntHM"
      },
      "source": [
        "import matplotlib.image as mpimg\n",
        "\n",
        "california_img = mpimg.imread('/gdrive/My Drive/Colab Notebooks/california.png')\n",
        "\n",
        "ax = housing.plot(kind=\"scatter\", x=\"longitude\", y=\"latitude\", figsize=(10,7),\n",
        "                       s=housing['population']/100, label=\"population\",\n",
        "                       c=\"median_house_value\", cmap=plt.get_cmap(\"jet\"),\n",
        "                       colorbar=False, alpha=0.4,\n",
        "                      )\n",
        "\n",
        "plt.imshow(california_img, extent=[-124.55, -113.80, 32.45, 42.05], alpha=0.5)\n",
        "plt.ylabel(\"latitude\", fontsize=14)\n",
        "plt.xlabel(\"longtitude\", fontsize=14)\n",
        "prices = housing[\"median_house_value\"]\n",
        "tick_values = np.linspace(prices.min(), prices.max(), 11)\n",
        "cbar = plt.colorbar()\n",
        "cbar.ax.set_yticklabels([\"$%dk\"%(round(v/1000)) for v in tick_values], fontsize=14)\n",
        "cbar.set_label('median_house_value', fontsize=16)\n",
        "plt.legend(fontsize=10)\n",
        "plt.show()"
      ],
      "execution_count": null,
      "outputs": []
    },
    {
      "cell_type": "code",
      "metadata": {
        "id": "9E8E4aMpivZ0"
      },
      "source": [
        "housing.plot(kind=\"scatter\",x=\"median_income\",y=\"median_house_value\",alpha=0.1)\n",
        "# 상관관계"
      ],
      "execution_count": null,
      "outputs": []
    },
    {
      "cell_type": "code",
      "metadata": {
        "id": "u-P-d_WIl8jh"
      },
      "source": [
        "corr_matrix=housing.corr()\n",
        "corr_matrix[\"median_house_value\"].sort_values(ascending=False)"
      ],
      "execution_count": null,
      "outputs": []
    },
    {
      "cell_type": "code",
      "metadata": {
        "id": "5Oiak3S9nNQY"
      },
      "source": [
        "housing[\"rooms_per_household\"] = housing[\"total_rooms\"]/housing[\"households\"]\n",
        "housing[\"bedrooms_per_room\"] = housing[\"total_bedrooms\"]/housing[\"total_rooms\"]\n",
        "housing[\"population_per_household\"]=housing[\"population\"]/housing[\"households\"]\n",
        "corr_matrix = housing.corr()\n",
        "corr_matrix[\"median_house_value\"].sort_values(ascending=False)\n",
        "#inline [42]"
      ],
      "execution_count": null,
      "outputs": []
    },
    {
      "cell_type": "code",
      "metadata": {
        "id": "534McpW7RWST"
      },
      "source": [
        "housing=strat_train_set.drop()"
      ],
      "execution_count": null,
      "outputs": []
    }
  ]
}